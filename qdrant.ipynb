{
 "cells": [
  {
   "cell_type": "code",
   "execution_count": null,
   "metadata": {},
   "outputs": [],
   "source": [
    "import os\n",
    "\n",
    "import openai\n",
    "import numpy as np\n",
    "from dotenv import load_dotenv\n",
    "from qdrant_client import QdrantClient\n",
    "from qdrant_client.models import Distance, VectorParams, PointStruct"
   ]
  },
  {
   "cell_type": "code",
   "execution_count": null,
   "metadata": {},
   "outputs": [],
   "source": [
    "load_dotenv('.env')"
   ]
  },
  {
   "cell_type": "code",
   "execution_count": null,
   "metadata": {},
   "outputs": [],
   "source": [
    "openai.api_key = os.getenv('OPENAI_API_KEY')"
   ]
  },
  {
   "cell_type": "code",
   "execution_count": null,
   "metadata": {},
   "outputs": [],
   "source": [
    "client = QdrantClient(host=\"localhost\", port=6333)"
   ]
  },
  {
   "cell_type": "code",
   "execution_count": null,
   "metadata": {},
   "outputs": [],
   "source": [
    "client.recreate_collection(\n",
    "    collection_name=\"docs\",\n",
    "    vectors_config=VectorParams(size=1536, distance=Distance.COSINE),\n",
    ")"
   ]
  },
  {
   "cell_type": "code",
   "execution_count": null,
   "metadata": {},
   "outputs": [],
   "source": [
    "docs_info = client.get_collection(\"docs\")\n",
    "print(docs_info.dict())"
   ]
  },
  {
   "cell_type": "code",
   "execution_count": null,
   "metadata": {},
   "outputs": [],
   "source": [
    "def get_embedding(text, model=\"text-embedding-ada-002\"):\n",
    "   text = text.replace(\"\\n\", \" \")\n",
    "   return openai.Embedding.create(input = [text], model=model)['data'][0]['embedding'] # type: ignore"
   ]
  },
  {
   "cell_type": "code",
   "execution_count": null,
   "metadata": {},
   "outputs": [],
   "source": [
    "texts = [\n",
    "    \"中村弘武は32歳の東京都在住です。エムスリーという企業で働いでいます。趣味は麻雀、サウナ、筋トレです。\",\n",
    "    \"大垣慶介は機械学習分野の研究開発を10年間続け、研究者として国際学会に論文を投稿する傍ら、エンジニアとしてAIを主軸においたゲームの技術責任者やwebサービスの新機能開発を行ってきた。エムスリーでは入社後3ヶ月で行動ログ解析の新システムを立ち上げ、製薬企業のマーケティング効率化に貢献、経営陣からのバックアップもあり、専用チームをリードしている。同時に研究の専門性を活かし、臨床AIの企画・開発を行っている。\",\n",
    "    \"北川遼はエムスリー2021年新卒入社。学生時代はヒューマンロボットインタラクションの分野を研究し、その分野のトップカンファレンスに採択されたOSSにも精力的に貢献し、大学院時代に10個以上の貢献を行った大学院時代のアルバイトではデータ基盤を作成し、アルバイトながら社内で表彰された\",\n",
    "    \"池島は前職ではコンサルティング会社において、クライアント企業のDXを目的とした機械学習PoCプロジェクトをリード。戦略の立案から機械学習モデルの開発まで深く関与。エムスリーでは医師の嗜好・性格予測するAIシステムの開発に従事。クライアント企業のマーケティング効率化やエムスリーの自社サービスの体験向上に活用中。\"\n",
    "]"
   ]
  },
  {
   "cell_type": "code",
   "execution_count": null,
   "metadata": {},
   "outputs": [],
   "source": [
    "embeddings = [get_embedding(t) for t in texts]"
   ]
  },
  {
   "cell_type": "code",
   "execution_count": null,
   "metadata": {},
   "outputs": [],
   "source": [
    "client.upsert(\n",
    "    collection_name=\"docs\",\n",
    "    points=[\n",
    "        PointStruct(\n",
    "            id=idx,\n",
    "            vector=vector,\n",
    "        )\n",
    "        for idx, vector in enumerate(embeddings)\n",
    "    ]\n",
    ")"
   ]
  },
  {
   "cell_type": "code",
   "execution_count": null,
   "metadata": {},
   "outputs": [],
   "source": []
  }
 ],
 "metadata": {
  "kernelspec": {
   "display_name": "Python 3.11.2 ('.venv': poetry)",
   "language": "python",
   "name": "python3"
  },
  "language_info": {
   "codemirror_mode": {
    "name": "ipython",
    "version": 3
   },
   "file_extension": ".py",
   "mimetype": "text/x-python",
   "name": "python",
   "nbconvert_exporter": "python",
   "pygments_lexer": "ipython3",
   "version": "3.10.7"
  },
  "orig_nbformat": 4,
  "vscode": {
   "interpreter": {
    "hash": "5321e882d537ea8a8e6634ae67320a361d421ade05607aa499a50f9d4d36673d"
   }
  }
 },
 "nbformat": 4,
 "nbformat_minor": 2
}
